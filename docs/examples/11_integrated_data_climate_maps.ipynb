{
 "cells": [
  {
   "cell_type": "code",
   "execution_count": 1,
   "metadata": {},
   "outputs": [],
   "source": [
    "import calendar\n",
    "from earthkit import data, climate, maps"
   ]
  },
  {
   "cell_type": "code",
   "execution_count": 2,
   "metadata": {},
   "outputs": [
    {
     "data": {
      "text/html": [
       "<div>\n",
       "<style scoped>\n",
       "    .dataframe tbody tr th:only-of-type {\n",
       "        vertical-align: middle;\n",
       "    }\n",
       "\n",
       "    .dataframe tbody tr th {\n",
       "        vertical-align: top;\n",
       "    }\n",
       "\n",
       "    .dataframe thead th {\n",
       "        text-align: right;\n",
       "    }\n",
       "</style>\n",
       "<table border=\"1\" class=\"dataframe\">\n",
       "  <thead>\n",
       "    <tr style=\"text-align: right;\">\n",
       "      <th></th>\n",
       "      <th>centre</th>\n",
       "      <th>shortName</th>\n",
       "      <th>typeOfLevel</th>\n",
       "      <th>level</th>\n",
       "      <th>dataDate</th>\n",
       "      <th>dataTime</th>\n",
       "      <th>stepRange</th>\n",
       "      <th>dataType</th>\n",
       "      <th>number</th>\n",
       "      <th>gridType</th>\n",
       "    </tr>\n",
       "  </thead>\n",
       "  <tbody>\n",
       "    <tr>\n",
       "      <th>0</th>\n",
       "      <td>ecmf</td>\n",
       "      <td>2t</td>\n",
       "      <td>surface</td>\n",
       "      <td>0</td>\n",
       "      <td>19800101</td>\n",
       "      <td>0</td>\n",
       "      <td>0</td>\n",
       "      <td>an</td>\n",
       "      <td>0</td>\n",
       "      <td>regular_ll</td>\n",
       "    </tr>\n",
       "    <tr>\n",
       "      <th>1</th>\n",
       "      <td>ecmf</td>\n",
       "      <td>2t</td>\n",
       "      <td>surface</td>\n",
       "      <td>0</td>\n",
       "      <td>19800201</td>\n",
       "      <td>0</td>\n",
       "      <td>0</td>\n",
       "      <td>an</td>\n",
       "      <td>0</td>\n",
       "      <td>regular_ll</td>\n",
       "    </tr>\n",
       "    <tr>\n",
       "      <th>2</th>\n",
       "      <td>ecmf</td>\n",
       "      <td>2t</td>\n",
       "      <td>surface</td>\n",
       "      <td>0</td>\n",
       "      <td>19800301</td>\n",
       "      <td>0</td>\n",
       "      <td>0</td>\n",
       "      <td>an</td>\n",
       "      <td>0</td>\n",
       "      <td>regular_ll</td>\n",
       "    </tr>\n",
       "    <tr>\n",
       "      <th>3</th>\n",
       "      <td>ecmf</td>\n",
       "      <td>2t</td>\n",
       "      <td>surface</td>\n",
       "      <td>0</td>\n",
       "      <td>19800401</td>\n",
       "      <td>0</td>\n",
       "      <td>0</td>\n",
       "      <td>an</td>\n",
       "      <td>0</td>\n",
       "      <td>regular_ll</td>\n",
       "    </tr>\n",
       "    <tr>\n",
       "      <th>4</th>\n",
       "      <td>ecmf</td>\n",
       "      <td>2t</td>\n",
       "      <td>surface</td>\n",
       "      <td>0</td>\n",
       "      <td>19800501</td>\n",
       "      <td>0</td>\n",
       "      <td>0</td>\n",
       "      <td>an</td>\n",
       "      <td>0</td>\n",
       "      <td>regular_ll</td>\n",
       "    </tr>\n",
       "    <tr>\n",
       "      <th>...</th>\n",
       "      <td>...</td>\n",
       "      <td>...</td>\n",
       "      <td>...</td>\n",
       "      <td>...</td>\n",
       "      <td>...</td>\n",
       "      <td>...</td>\n",
       "      <td>...</td>\n",
       "      <td>...</td>\n",
       "      <td>...</td>\n",
       "      <td>...</td>\n",
       "    </tr>\n",
       "    <tr>\n",
       "      <th>511</th>\n",
       "      <td>ecmf</td>\n",
       "      <td>2t</td>\n",
       "      <td>surface</td>\n",
       "      <td>0</td>\n",
       "      <td>20220801</td>\n",
       "      <td>0</td>\n",
       "      <td>0</td>\n",
       "      <td>an</td>\n",
       "      <td>0</td>\n",
       "      <td>regular_ll</td>\n",
       "    </tr>\n",
       "    <tr>\n",
       "      <th>512</th>\n",
       "      <td>ecmf</td>\n",
       "      <td>2t</td>\n",
       "      <td>surface</td>\n",
       "      <td>0</td>\n",
       "      <td>20220901</td>\n",
       "      <td>0</td>\n",
       "      <td>0</td>\n",
       "      <td>an</td>\n",
       "      <td>0</td>\n",
       "      <td>regular_ll</td>\n",
       "    </tr>\n",
       "    <tr>\n",
       "      <th>513</th>\n",
       "      <td>ecmf</td>\n",
       "      <td>2t</td>\n",
       "      <td>surface</td>\n",
       "      <td>0</td>\n",
       "      <td>20221001</td>\n",
       "      <td>0</td>\n",
       "      <td>0</td>\n",
       "      <td>an</td>\n",
       "      <td>0</td>\n",
       "      <td>regular_ll</td>\n",
       "    </tr>\n",
       "    <tr>\n",
       "      <th>514</th>\n",
       "      <td>ecmf</td>\n",
       "      <td>2t</td>\n",
       "      <td>surface</td>\n",
       "      <td>0</td>\n",
       "      <td>20221101</td>\n",
       "      <td>0</td>\n",
       "      <td>0</td>\n",
       "      <td>an</td>\n",
       "      <td>0</td>\n",
       "      <td>regular_ll</td>\n",
       "    </tr>\n",
       "    <tr>\n",
       "      <th>515</th>\n",
       "      <td>ecmf</td>\n",
       "      <td>2t</td>\n",
       "      <td>surface</td>\n",
       "      <td>0</td>\n",
       "      <td>20221201</td>\n",
       "      <td>0</td>\n",
       "      <td>0</td>\n",
       "      <td>an</td>\n",
       "      <td>0</td>\n",
       "      <td>regular_ll</td>\n",
       "    </tr>\n",
       "  </tbody>\n",
       "</table>\n",
       "<p>516 rows × 10 columns</p>\n",
       "</div>"
      ],
      "text/plain": [
       "    centre shortName typeOfLevel  level  dataDate  dataTime stepRange   \n",
       "0     ecmf        2t     surface      0  19800101         0         0  \\\n",
       "1     ecmf        2t     surface      0  19800201         0         0   \n",
       "2     ecmf        2t     surface      0  19800301         0         0   \n",
       "3     ecmf        2t     surface      0  19800401         0         0   \n",
       "4     ecmf        2t     surface      0  19800501         0         0   \n",
       "..     ...       ...         ...    ...       ...       ...       ...   \n",
       "511   ecmf        2t     surface      0  20220801         0         0   \n",
       "512   ecmf        2t     surface      0  20220901         0         0   \n",
       "513   ecmf        2t     surface      0  20221001         0         0   \n",
       "514   ecmf        2t     surface      0  20221101         0         0   \n",
       "515   ecmf        2t     surface      0  20221201         0         0   \n",
       "\n",
       "    dataType  number    gridType  \n",
       "0         an       0  regular_ll  \n",
       "1         an       0  regular_ll  \n",
       "2         an       0  regular_ll  \n",
       "3         an       0  regular_ll  \n",
       "4         an       0  regular_ll  \n",
       "..       ...     ...         ...  \n",
       "511       an       0  regular_ll  \n",
       "512       an       0  regular_ll  \n",
       "513       an       0  regular_ll  \n",
       "514       an       0  regular_ll  \n",
       "515       an       0  regular_ll  \n",
       "\n",
       "[516 rows x 10 columns]"
      ]
     },
     "execution_count": 2,
     "metadata": {},
     "output_type": "execute_result"
    }
   ],
   "source": [
    "url = \"https://get.ecmwf.int/repository/test-data/earthkit/t2m-western-europe-1980_2022.grib\"\n",
    "fs = data.from_source(\"url\", url)\n",
    "fs.ls()"
   ]
  },
  {
   "cell_type": "code",
   "execution_count": 4,
   "metadata": {},
   "outputs": [
    {
     "data": {
      "text/plain": [
       "<earthkit.data.wrappers.xarray.XArrayDatasetWrapper at 0x14c2f1000>"
      ]
     },
     "execution_count": 4,
     "metadata": {},
     "output_type": "execute_result"
    }
   ],
   "source": [
    "# Calculate the climatology with the raw earthkit data object\n",
    "climatology = climate.climatology.mean(fs, frequency=\"month\")\n",
    "climatology"
   ]
  },
  {
   "cell_type": "code",
   "execution_count": 6,
   "metadata": {},
   "outputs": [
    {
     "data": {
      "text/plain": [
       "<earthkit.data.wrappers.xarray.XArrayDatasetWrapper at 0x14db3c4c0>"
      ]
     },
     "execution_count": 6,
     "metadata": {},
     "output_type": "execute_result"
    }
   ],
   "source": [
    "fs_clim = data.from_object(climatology)\n",
    "fs_clim"
   ]
  },
  {
   "cell_type": "code",
   "execution_count": 5,
   "metadata": {},
   "outputs": [
    {
     "ename": "type",
     "evalue": "'XArrayDatasetWrapper' object has no attribute 'projection'",
     "output_type": "error",
     "traceback": [
      "\u001b[0;31m---------------------------------------------------------------------------\u001b[0m",
      "\u001b[0;31mAttributeError\u001b[0m                            Traceback (most recent call last)",
      "Cell \u001b[0;32mIn[5], line 2\u001b[0m\n\u001b[1;32m      1\u001b[0m chart \u001b[39m=\u001b[39m maps\u001b[39m.\u001b[39mChart()\n\u001b[0;32m----> 2\u001b[0m chart\u001b[39m.\u001b[39;49mshaded_contour(fs_clim, cmap\u001b[39m=\u001b[39;49m\u001b[39m\"\u001b[39;49m\u001b[39mturbo\u001b[39;49m\u001b[39m\"\u001b[39;49m, levels\u001b[39m=\u001b[39;49m\u001b[39mrange\u001b[39;49m(\u001b[39m-\u001b[39;49m\u001b[39m20\u001b[39;49m, \u001b[39m41\u001b[39;49m), units\u001b[39m=\u001b[39;49m\u001b[39m\"\u001b[39;49m\u001b[39mcelsius\u001b[39;49m\u001b[39m\"\u001b[39;49m)\n\u001b[1;32m      3\u001b[0m chart\u001b[39m.\u001b[39mlegend(location\u001b[39m=\u001b[39m\u001b[39m\"\u001b[39m\u001b[39mbottom\u001b[39m\u001b[39m\"\u001b[39m)\n\u001b[1;32m      4\u001b[0m \u001b[39mfor\u001b[39;00m subplot, month_name \u001b[39min\u001b[39;00m \u001b[39mzip\u001b[39m(chart\u001b[39m.\u001b[39msubplots, calendar\u001b[39m.\u001b[39mmonth_name[\u001b[39m1\u001b[39m:]):\n",
      "File \u001b[0;32m~/Work/Git_Repositories/EARTHKIT/earthkit-maps/earthkit/maps/charts/__init__.py:126\u001b[0m, in \u001b[0;36mChart.expand_subplots.<locals>.wrapper\u001b[0;34m(self, data, *args, **kwargs)\u001b[0m\n\u001b[1;32m    124\u001b[0m     \u001b[39melse\u001b[39;00m:\n\u001b[1;32m    125\u001b[0m         \u001b[39mself\u001b[39m\u001b[39m.\u001b[39m_rows, \u001b[39mself\u001b[39m\u001b[39m.\u001b[39m_cols \u001b[39m=\u001b[39m \u001b[39m1\u001b[39m, \u001b[39m1\u001b[39m\n\u001b[0;32m--> 126\u001b[0m \u001b[39mreturn\u001b[39;00m method(\u001b[39mself\u001b[39;49m, data, \u001b[39m*\u001b[39;49margs, \u001b[39m*\u001b[39;49m\u001b[39m*\u001b[39;49mkwargs)\n",
      "File \u001b[0;32m~/Work/Git_Repositories/EARTHKIT/earthkit-maps/earthkit/maps/charts/__init__.py:171\u001b[0m, in \u001b[0;36mChart.contourf\u001b[0;34m(self, data, *args, **kwargs)\u001b[0m\n\u001b[1;32m    169\u001b[0m \u001b[39m@expand_subplots\u001b[39m\n\u001b[1;32m    170\u001b[0m \u001b[39mdef\u001b[39;00m \u001b[39mcontourf\u001b[39m(\u001b[39mself\u001b[39m, data, \u001b[39m*\u001b[39margs, \u001b[39m*\u001b[39m\u001b[39m*\u001b[39mkwargs):\n\u001b[0;32m--> 171\u001b[0m     \u001b[39mreturn\u001b[39;00m \u001b[39mself\u001b[39;49m\u001b[39m.\u001b[39;49msubplots\u001b[39m.\u001b[39;49mcontourf(data, \u001b[39m*\u001b[39;49margs, \u001b[39m*\u001b[39;49m\u001b[39m*\u001b[39;49mkwargs)\n",
      "File \u001b[0;32m~/Work/Git_Repositories/EARTHKIT/earthkit-maps/earthkit/maps/charts/layers.py:288\u001b[0m, in \u001b[0;36mSubplots._data_layer.<locals>._iter_data\u001b[0;34m(data, *args, **kwargs)\u001b[0m\n\u001b[1;32m    286\u001b[0m \u001b[39mfor\u001b[39;00m i, field \u001b[39min\u001b[39;00m \u001b[39menumerate\u001b[39m(data):\n\u001b[1;32m    287\u001b[0m     \u001b[39mif\u001b[39;00m i \u001b[39m+\u001b[39m \u001b[39m1\u001b[39m \u001b[39m>\u001b[39m \u001b[39mlen\u001b[39m(\u001b[39mself\u001b[39m\u001b[39m.\u001b[39m_subplots):\n\u001b[0;32m--> 288\u001b[0m         subplot \u001b[39m=\u001b[39m \u001b[39mself\u001b[39;49m\u001b[39m.\u001b[39;49m_chart\u001b[39m.\u001b[39;49madd_subplot(data\u001b[39m=\u001b[39;49mfield)\n\u001b[1;32m    289\u001b[0m     \u001b[39melse\u001b[39;00m:\n\u001b[1;32m    290\u001b[0m         subplot \u001b[39m=\u001b[39m \u001b[39mself\u001b[39m\u001b[39m.\u001b[39m_subplots[i]\n",
      "File \u001b[0;32m~/Work/Git_Repositories/EARTHKIT/earthkit-maps/earthkit/maps/charts/__init__.py:112\u001b[0m, in \u001b[0;36mChart.add_subplot\u001b[0;34m(self, data, domain, crs, *args, **kwargs)\u001b[0m\n\u001b[1;32m    109\u001b[0m     args \u001b[39m=\u001b[39m (\u001b[39mself\u001b[39m\u001b[39m.\u001b[39mgridspec[i, j],)\n\u001b[1;32m    111\u001b[0m \u001b[39mif\u001b[39;00m data \u001b[39mis\u001b[39;00m \u001b[39mnot\u001b[39;00m \u001b[39mNone\u001b[39;00m:\n\u001b[0;32m--> 112\u001b[0m     subplot \u001b[39m=\u001b[39m layers\u001b[39m.\u001b[39;49mSubplot\u001b[39m.\u001b[39;49mfrom_data(\u001b[39mself\u001b[39;49m, data, \u001b[39m*\u001b[39;49margs, \u001b[39m*\u001b[39;49m\u001b[39m*\u001b[39;49mkwargs)\n\u001b[1;32m    113\u001b[0m \u001b[39melse\u001b[39;00m:\n\u001b[1;32m    114\u001b[0m     subplot \u001b[39m=\u001b[39m layers\u001b[39m.\u001b[39mSubplot(\u001b[39mself\u001b[39m, \u001b[39m*\u001b[39margs, domain\u001b[39m=\u001b[39mdomain, crs\u001b[39m=\u001b[39mcrs, \u001b[39m*\u001b[39m\u001b[39m*\u001b[39mkwargs)\n",
      "File \u001b[0;32m~/Work/Git_Repositories/EARTHKIT/earthkit-maps/earthkit/maps/charts/layers.py:62\u001b[0m, in \u001b[0;36mSubplot.from_data\u001b[0;34m(cls, chart, data, *args, **kwargs)\u001b[0m\n\u001b[1;32m     60\u001b[0m crs \u001b[39m=\u001b[39m \u001b[39mNone\u001b[39;00m\n\u001b[1;32m     61\u001b[0m \u001b[39mif\u001b[39;00m chart\u001b[39m.\u001b[39mdomain\u001b[39m.\u001b[39mcrs \u001b[39mis\u001b[39;00m \u001b[39mNone\u001b[39;00m:\n\u001b[0;32m---> 62\u001b[0m     crs \u001b[39m=\u001b[39m data\u001b[39m.\u001b[39;49mprojection()\u001b[39m.\u001b[39mto_cartopy_crs()\n\u001b[1;32m     63\u001b[0m \u001b[39mreturn\u001b[39;00m \u001b[39mcls\u001b[39m(chart, \u001b[39m*\u001b[39margs, crs\u001b[39m=\u001b[39mcrs, \u001b[39m*\u001b[39m\u001b[39m*\u001b[39mkwargs)\n",
      "\u001b[0;31mAttributeError\u001b[0m: 'XArrayDatasetWrapper' object has no attribute 'projection'"
     ]
    },
    {
     "data": {
      "text/plain": [
       "<Figure size 1000x750 with 0 Axes>"
      ]
     },
     "metadata": {},
     "output_type": "display_data"
    }
   ],
   "source": [
    "chart = maps.Chart()\n",
    "chart.shaded_contour(fs_clim, cmap=\"turbo\", levels=range(-20, 41), units=\"celsius\")\n",
    "chart.legend(location=\"bottom\")\n",
    "for subplot, month_name in zip(chart.subplots, calendar.month_name[1:]):\n",
    "    subplot.title(month_name)\n",
    "chart.coastlines()\n",
    "chart.gridlines(draw_labels=False)\n",
    "chart.title(\"Climatology of {variable_name} over Western Europe from 1980-2022\", fontsize=14)\n",
    "chart.show()"
   ]
  },
  {
   "cell_type": "code",
   "execution_count": null,
   "metadata": {},
   "outputs": [],
   "source": []
  }
 ],
 "metadata": {
  "kernelspec": {
   "display_name": "Python 3",
   "language": "python",
   "name": "python3"
  },
  "language_info": {
   "codemirror_mode": {
    "name": "ipython",
    "version": 3
   },
   "file_extension": ".py",
   "mimetype": "text/x-python",
   "name": "python",
   "nbconvert_exporter": "python",
   "pygments_lexer": "ipython3",
   "version": "3.10.12"
  }
 },
 "nbformat": 4,
 "nbformat_minor": 2
}
