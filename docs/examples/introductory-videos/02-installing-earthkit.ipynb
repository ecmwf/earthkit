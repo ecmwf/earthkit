{
 "cells": [
  {
   "cell_type": "markdown",
   "id": "d9f2752d-e19a-47b6-ab42-9a78f0dda76d",
   "metadata": {},
   "source": [
    "<h2>\n",
    "  How to install &nbsp;\n",
    "  <img src=\"https://raw.githubusercontent.com/ecmwf/logos/refs/heads/main/logos/earthkit/earthkit-light.svg\" alt=\"earthkit\" style=\"height:2em; vertical-align:middle; margin-top:-9px;\">\n",
    "</h2>"
   ]
  },
  {
   "cell_type": "markdown",
   "id": "4bcb44f7-98c4-42fd-aaba-f9ae32f871b6",
   "metadata": {},
   "source": [
    "**Earthkit** isn't just a single Python library, it's an **ecosystem** of specialised tools designed for different aspects of working with earth system data. All of these tools are available with *pip*, and you can pick and choose only the tools you need by simply *pip installing* them."
   ]
  },
  {
   "cell_type": "markdown",
   "id": "2a40cabf-aa96-4980-bfac-f8e95b3685ec",
   "metadata": {},
   "source": [
    "<div style=\"text-align: center;\">\n",
    "  <div style=\"display: inline-block; width: 300px; margin: 10px;\">\n",
    "    <a href=\"https://github.com/ecmwf/earthkit-data\" target=\"_blank\">\n",
    "      <img src=\"https://raw.githubusercontent.com/ecmwf/logos/refs/heads/main/logos/earthkit/earthkit-data-light.svg\" alt=\"data\" style=\"height: 150px;\">\n",
    "    </a>\n",
    "  </div>\n",
    "  <div style=\"display: inline-block; width: 300px; margin: 10px;\">\n",
    "    <a href=\"https://github.com/ecmwf/earthkit-plots\" target=\"_blank\">\n",
    "      <img src=\"https://raw.githubusercontent.com/ecmwf/logos/refs/heads/main/logos/earthkit/earthkit-plots-light.svg\" alt=\"plots\" style=\"height: 150px;\">\n",
    "    </a>\n",
    "  </div>\n",
    "  <div style=\"display: inline-block; width: 300px; margin: 10px;\">\n",
    "    <a href=\"https://github.com/ecmwf/earthkit-meteo\" target=\"_blank\">\n",
    "      <img src=\"https://raw.githubusercontent.com/ecmwf/logos/refs/heads/main/logos/earthkit/earthkit-meteo-light.svg\" alt=\"meteo\" style=\"height: 150px;\">\n",
    "    </a>\n",
    "  </div>\n",
    "  <div style=\"display: inline-block; width: 300px; margin: 10px;\">\n",
    "    <a href=\"https://github.com/ecmwf/earthkit-regrid\" target=\"_blank\">\n",
    "      <img src=\"https://raw.githubusercontent.com/ecmwf/logos/refs/heads/main/logos/earthkit/earthkit-regrid-light.svg\" alt=\"regrid\" style=\"height: 150px;\">\n",
    "    </a>\n",
    "  </div>\n",
    "  <div style=\"display: inline-block; width: 300px; margin: 10px;\">\n",
    "    <a href=\"https://github.com/ecmwf/earthkit-transforms\" target=\"_blank\">\n",
    "      <img src=\"https://raw.githubusercontent.com/ecmwf/logos/refs/heads/main/logos/earthkit/earthkit-transforms-light.svg\" alt=\"transforms\" style=\"height: 150px;\">\n",
    "    </a>\n",
    "  </div>\n",
    "  <div style=\"display: inline-block; width: 300px; margin: 10px;\">\n",
    "    <a href=\"https://github.com/ecmwf/earthkit-geo\" target=\"_blank\">\n",
    "      <img src=\"https://raw.githubusercontent.com/ecmwf/logos/refs/heads/main/logos/earthkit/earthkit-geo-light.svg\" alt=\"geo\" style=\"height: 150px;\">\n",
    "    </a>\n",
    "  </div>\n",
    "  <div style=\"display: inline-block; width: 300px; margin: 10px;\">\n",
    "    <a href=\"https://github.com/ecmwf/earthkit-hydro\" target=\"_blank\">\n",
    "      <img src=\"https://raw.githubusercontent.com/ecmwf/logos/refs/heads/main/logos/earthkit/earthkit-hydro-light.svg\" alt=\"hydro\" style=\"height: 150px;\">\n",
    "    </a>\n",
    "  </div>\n",
    "  <div style=\"display: inline-block; width: 300px; margin: 10px;\">\n",
    "    <a href=\"https://github.com/ecmwf/earthkit-time\" target=\"_blank\">\n",
    "      <img src=\"https://raw.githubusercontent.com/ecmwf/logos/refs/heads/main/logos/earthkit/earthkit-time-light.svg\" alt=\"time\" style=\"height: 150px;\">\n",
    "    </a>\n",
    "  </div>\n",
    "  <div style=\"display: inline-block; width: 300px; margin: 10px;\">\n",
    "    <a href=\"https://github.com/ecmwf/earthkit-climate\" target=\"_blank\">\n",
    "      <img src=\"https://raw.githubusercontent.com/ecmwf/logos/refs/heads/main/logos/earthkit/earthkit-climate-light.svg\" alt=\"climate\" style=\"height: 150px;\">\n",
    "    </a>\n",
    "  </div>\n",
    "</div>\n"
   ]
  },
  {
   "cell_type": "markdown",
   "id": "f0dad46c-dca0-4a7d-b3aa-fffb76912f91",
   "metadata": {},
   "source": [
    "For example, if you want a high-level, fromat agnostic interface for working with a wide range of earth data, you can simply install **earthkit-data**:"
   ]
  },
  {
   "cell_type": "code",
   "execution_count": null,
   "id": "cad8aa58-6475-4841-81cd-c9e5ad1f6de1",
   "metadata": {},
   "outputs": [],
   "source": [
    "!pip install earthkit-data"
   ]
  },
  {
   "cell_type": "markdown",
   "id": "c3140974-23c8-4d34-a91a-84c376581466",
   "metadata": {},
   "source": [
    "Or if you want to start processing the datasets you access with **earthkit-data**, you might want to try **earthkit-transforms**:"
   ]
  },
  {
   "cell_type": "code",
   "execution_count": null,
   "id": "789462b0-1632-48a9-82fc-2fc1f0a6efc6",
   "metadata": {},
   "outputs": [],
   "source": [
    "!pip install earthkit-transforms"
   ]
  },
  {
   "cell_type": "markdown",
   "id": "52019fed-61ce-4707-aae3-35bc1cd345a2",
   "metadata": {},
   "source": [
    "And if you want to visualise your results, you can install **earthkit-plots**:"
   ]
  },
  {
   "cell_type": "code",
   "execution_count": null,
   "id": "2116e19e-43c2-41a2-b753-cbb05402db69",
   "metadata": {},
   "outputs": [],
   "source": [
    "!pip install earthkit-plots"
   ]
  },
  {
   "cell_type": "markdown",
   "id": "838eecb2-6455-41f1-8873-319747b9cbd0",
   "metadata": {},
   "source": [
    "### The whole of earthkit\n",
    "\n",
    "If you want to benefit from the rich ecosystem of *all* of **earthkit**'s components, you can simply do a `pip install earthkit` and get all of the packages at once."
   ]
  },
  {
   "cell_type": "code",
   "execution_count": null,
   "id": "25eba25d-9fea-453e-90cb-b20f4e8d88d2",
   "metadata": {},
   "outputs": [],
   "source": [
    "!pip install earthkit"
   ]
  },
  {
   "cell_type": "markdown",
   "id": "f588a3e0-04da-4696-adad-0538c5d4557e",
   "metadata": {},
   "source": [
    "### Find out more\n",
    "\n",
    "Explore the [earthkit-data documentation](https://earthkit-data.readthedocs.io/en/latest/) for many more examples and a user guide, or star and watch the [repository on Github](https://github.com/ecmwf/earthkit-data) to be kept up-to-date on the latest developments."
   ]
  }
 ],
 "metadata": {
  "kernelspec": {
   "display_name": "DEVELOP",
   "language": "python",
   "name": "develop"
  },
  "language_info": {
   "codemirror_mode": {
    "name": "ipython",
    "version": 3
   },
   "file_extension": ".py",
   "mimetype": "text/x-python",
   "name": "python",
   "nbconvert_exporter": "python",
   "pygments_lexer": "ipython3",
   "version": "3.10.6"
  }
 },
 "nbformat": 4,
 "nbformat_minor": 5
}
